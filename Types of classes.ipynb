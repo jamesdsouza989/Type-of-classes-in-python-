{
 "cells": [
  {
   "cell_type": "code",
   "execution_count": 1,
   "id": "6346d8c1-a91f-4352-b52f-85ca3dfb83d8",
   "metadata": {},
   "outputs": [],
   "source": [
    "class Ineuron:\n",
    "    company_website = \"https://ineuron.ai\"\n",
    "    name = \"Ineuron\""
   ]
  },
  {
   "cell_type": "code",
   "execution_count": 2,
   "id": "46441991-62e8-4b07-ac75-b0c040405469",
   "metadata": {},
   "outputs": [
    {
     "data": {
      "text/plain": [
       "__main__.Ineuron"
      ]
     },
     "execution_count": 2,
     "metadata": {},
     "output_type": "execute_result"
    }
   ],
   "source": [
    "Ineuron"
   ]
  },
  {
   "cell_type": "markdown",
   "id": "5adfcb71-b3d2-406f-9a5d-d2580604de85",
   "metadata": {},
   "source": [
    "### Multiple Inheritance"
   ]
  },
  {
   "cell_type": "code",
   "execution_count": 6,
   "id": "6d9595fb-d5d7-4fd7-9a28-23000dfa2239",
   "metadata": {},
   "outputs": [],
   "source": [
    "class Parent1:\n",
    "    def func1(self):\n",
    "        print(\"Hello from parent 1\")\n",
    "        \n",
    "class Parent2:\n",
    "    def func2(self):\n",
    "        print(\"Hello from parent 2\")\n",
    "        \n",
    "class child(Parent1, Parent2):\n",
    "    def func3(self):\n",
    "        print(\"Hello from child\")"
   ]
  },
  {
   "cell_type": "code",
   "execution_count": 7,
   "id": "ae910776-ac98-4654-9a01-2e6f97e1dfc3",
   "metadata": {},
   "outputs": [],
   "source": [
    "test = child()"
   ]
  },
  {
   "cell_type": "code",
   "execution_count": 16,
   "id": "53e9b69a-468f-4f6c-874f-fe238363d4bc",
   "metadata": {},
   "outputs": [],
   "source": [
    "class Person:\n",
    "    def func1(self):\n",
    "        print(\"I am a person\")\n",
    "\n",
    "class Company:\n",
    "    def __init__(self, private, public):\n",
    "        self.private = private\n",
    "        self.public = public\n",
    "    \n",
    "    def func2(self):\n",
    "        print(\"I am a company\")\n",
    "        \n",
    "class Employee(Person, Company):\n",
    "    \n",
    "    def func3(self):\n",
    "        print(\"I am a employee\")\n",
    "    "
   ]
  },
  {
   "cell_type": "code",
   "execution_count": 18,
   "id": "3d096cc9-3ef0-4790-880e-91ffffcef7cb",
   "metadata": {},
   "outputs": [],
   "source": [
    "t = Employee(4 , 5)"
   ]
  },
  {
   "cell_type": "code",
   "execution_count": 21,
   "id": "6c562691-917e-4e96-9acc-39d8e35ecb7e",
   "metadata": {},
   "outputs": [
    {
     "name": "stdout",
     "output_type": "stream",
     "text": [
      "I am a employee\n"
     ]
    }
   ],
   "source": [
    "t.func3()"
   ]
  },
  {
   "cell_type": "code",
   "execution_count": 22,
   "id": "34b09174-8c0f-4ecb-a482-cd5108297916",
   "metadata": {},
   "outputs": [],
   "source": [
    "# Multi level inheritance"
   ]
  },
  {
   "cell_type": "code",
   "execution_count": 24,
   "id": "344c65b4-0423-4b2b-9cc6-c9c5cefca5cd",
   "metadata": {},
   "outputs": [],
   "source": [
    "class test1:\n",
    "    def a(self):\n",
    "        print(\"Inside test1...\")\n",
    "    \n",
    "class test2(test1):\n",
    "    def b(self):\n",
    "        print(\"Inside test2...\")\n",
    "        \n",
    "class test3(test2):\n",
    "    def c(self):\n",
    "        print(\"Inside test3...\")"
   ]
  },
  {
   "cell_type": "code",
   "execution_count": 25,
   "id": "8354e73e-79be-4e70-b79a-d1ffde257eeb",
   "metadata": {},
   "outputs": [],
   "source": [
    "a=test3()"
   ]
  },
  {
   "cell_type": "code",
   "execution_count": 27,
   "id": "f05c2125-3be1-4623-8a9b-ee2d27a9d458",
   "metadata": {},
   "outputs": [
    {
     "name": "stdout",
     "output_type": "stream",
     "text": [
      "Inside test1...\n"
     ]
    }
   ],
   "source": [
    "a.a()"
   ]
  },
  {
   "cell_type": "code",
   "execution_count": 29,
   "id": "d978be0a-cec1-4f76-af32-4d64c1fcf5ec",
   "metadata": {},
   "outputs": [],
   "source": [
    "class Vehicle:\n",
    "    def info(self):\n",
    "        print(\"Inside Vehicle class...\")\n",
    "        \n",
    "class Car(Vehicle):\n",
    "    def car_info(self):\n",
    "        print(\"Inside Car class...\")\n",
    "        \n",
    "class Sportscar(Car):\n",
    "    def sports_car_info(self):\n",
    "        print(\"Inside Sportscar class...\")"
   ]
  },
  {
   "cell_type": "code",
   "execution_count": 30,
   "id": "828e0a3c-743a-4844-a88c-fce0ae3f54c6",
   "metadata": {},
   "outputs": [],
   "source": [
    "a = Sportscar()"
   ]
  },
  {
   "cell_type": "code",
   "execution_count": 32,
   "id": "941e7298-9d4c-4691-8fd3-d9137b9c2d20",
   "metadata": {},
   "outputs": [
    {
     "name": "stdout",
     "output_type": "stream",
     "text": [
      "Inside Sportscar class...\n"
     ]
    }
   ],
   "source": [
    "a.sports_car_info()"
   ]
  },
  {
   "cell_type": "code",
   "execution_count": 37,
   "id": "7a484ebb-c507-4c60-91b8-5d3445631697",
   "metadata": {},
   "outputs": [],
   "source": [
    "class Phones:\n",
    "    \n",
    "    def __init__(self, brand, model, price):\n",
    "        self.brand = brand\n",
    "        self.model = model\n",
    "        self.price = price\n",
    "        \n",
    "    def spec(self):\n",
    "        return (f\"Brand: {brand}, Model: {model}, Price: {price}\")\n",
    "        \n",
    "        \n",
    "    def type_of_phone(self):\n",
    "        if self.price < 25000:\n",
    "            print(\"This is a budget phone\")\n",
    "        else:\n",
    "            print(\"This is a mid range phone\")\n",
    "            \n",
    "class Smartphone(Phones):\n",
    "    \n",
    "    def __init__(self, brand, ram, model, price, storage):\n",
    "        super().__init__(brand, model, price)\n",
    "        self.ram = ram\n",
    "        self.storage = storage\n",
    "        \n",
    "class Flagshipphone(Smartphone):\n",
    "    \n",
    "    def __init__(self, brand, model, price, frontcamera, backcamera, display, ram, storage):\n",
    "        super().__init__ (brand, model, price, ram, storage)\n",
    "        self.frontcamera = frontcamera\n",
    "        self.backcamera = backcamera\n",
    "        self.display = display"
   ]
  },
  {
   "cell_type": "code",
   "execution_count": 39,
   "id": "6f0b3637-514a-47ca-b36b-35ce4ef5589c",
   "metadata": {},
   "outputs": [],
   "source": [
    "jam = Flagshipphone(\"Samsung\", \"A52\", 30500, \"30 MP\", \"50 MP\", \"LCD\", \"16 GB\", \"360 GB\")"
   ]
  },
  {
   "cell_type": "code",
   "execution_count": 42,
   "id": "a099eaeb-dfa6-47b1-8502-bebb223becd5",
   "metadata": {},
   "outputs": [
    {
     "data": {
      "text/plain": [
       "'50 MP'"
      ]
     },
     "execution_count": 42,
     "metadata": {},
     "output_type": "execute_result"
    }
   ],
   "source": [
    "jam.backcamera"
   ]
  },
  {
   "cell_type": "code",
   "execution_count": 45,
   "id": "604b7f57-073f-4bad-929c-9a9662411000",
   "metadata": {},
   "outputs": [
    {
     "ename": "TypeError",
     "evalue": "'<' not supported between instances of 'str' and 'int'",
     "output_type": "error",
     "traceback": [
      "\u001b[0;31m---------------------------------------------------------------------------\u001b[0m",
      "\u001b[0;31mTypeError\u001b[0m                                 Traceback (most recent call last)",
      "Cell \u001b[0;32mIn [45], line 1\u001b[0m\n\u001b[0;32m----> 1\u001b[0m \u001b[43mjam\u001b[49m\u001b[38;5;241;43m.\u001b[39;49m\u001b[43mtype_of_phone\u001b[49m\u001b[43m(\u001b[49m\u001b[43m)\u001b[49m\n",
      "Cell \u001b[0;32mIn [37], line 13\u001b[0m, in \u001b[0;36mPhones.type_of_phone\u001b[0;34m(self)\u001b[0m\n\u001b[1;32m     12\u001b[0m \u001b[38;5;28;01mdef\u001b[39;00m \u001b[38;5;21mtype_of_phone\u001b[39m(\u001b[38;5;28mself\u001b[39m):\n\u001b[0;32m---> 13\u001b[0m     \u001b[38;5;28;01mif\u001b[39;00m \u001b[38;5;28;43mself\u001b[39;49m\u001b[38;5;241;43m.\u001b[39;49m\u001b[43mprice\u001b[49m\u001b[43m \u001b[49m\u001b[38;5;241;43m<\u001b[39;49m\u001b[43m \u001b[49m\u001b[38;5;241;43m25000\u001b[39;49m:\n\u001b[1;32m     14\u001b[0m         \u001b[38;5;28mprint\u001b[39m(\u001b[38;5;124m\"\u001b[39m\u001b[38;5;124mThis is a budget phone\u001b[39m\u001b[38;5;124m\"\u001b[39m)\n\u001b[1;32m     15\u001b[0m     \u001b[38;5;28;01melse\u001b[39;00m:\n",
      "\u001b[0;31mTypeError\u001b[0m: '<' not supported between instances of 'str' and 'int'"
     ]
    }
   ],
   "source": [
    "jam.type_of_phone()"
   ]
  },
  {
   "cell_type": "code",
   "execution_count": 76,
   "id": "9615a837-2cc5-4215-b721-425f59fbd93e",
   "metadata": {},
   "outputs": [],
   "source": [
    "class Vehicle:\n",
    "    def info(self):\n",
    "        print(\"This is a vehicle...\")\n",
    "        \n",
    "class Car (Vehicle):\n",
    "    def car_info (self, name):\n",
    "        print(\"Car Name:\", self.name)\n",
    "        \n",
    "class Truck(Vehicle):\n",
    "    def truck_info(self, name):\n",
    "        print(\"Truck Name:\", name)"
   ]
  },
  {
   "cell_type": "code",
   "execution_count": 74,
   "id": "8b7b3866-8126-446a-acef-ad2ffd612b9c",
   "metadata": {},
   "outputs": [],
   "source": [
    "s1= Car()"
   ]
  },
  {
   "cell_type": "code",
   "execution_count": 79,
   "id": "bd029e2b-28db-410c-adc0-17191403eec6",
   "metadata": {},
   "outputs": [
    {
     "name": "stdout",
     "output_type": "stream",
     "text": [
      "This is a vehicle...\n"
     ]
    }
   ],
   "source": [
    "s1.info()"
   ]
  },
  {
   "cell_type": "code",
   "execution_count": 81,
   "id": "1e1a9e8f-d7ca-4f8c-8f2e-fea7232c4002",
   "metadata": {},
   "outputs": [
    {
     "ename": "AttributeError",
     "evalue": "'Car' object has no attribute 'name'",
     "output_type": "error",
     "traceback": [
      "\u001b[0;31m---------------------------------------------------------------------------\u001b[0m",
      "\u001b[0;31mAttributeError\u001b[0m                            Traceback (most recent call last)",
      "Cell \u001b[0;32mIn [81], line 1\u001b[0m\n\u001b[0;32m----> 1\u001b[0m \u001b[43ms1\u001b[49m\u001b[38;5;241;43m.\u001b[39;49m\u001b[43mcar_info\u001b[49m\u001b[43m(\u001b[49m\u001b[38;5;124;43m\"\u001b[39;49m\u001b[38;5;124;43mToyota\u001b[39;49m\u001b[38;5;124;43m\"\u001b[39;49m\u001b[43m)\u001b[49m\n",
      "Cell \u001b[0;32mIn [76], line 7\u001b[0m, in \u001b[0;36mCar.car_info\u001b[0;34m(self, name)\u001b[0m\n\u001b[1;32m      6\u001b[0m \u001b[38;5;28;01mdef\u001b[39;00m \u001b[38;5;21mcar_info\u001b[39m (\u001b[38;5;28mself\u001b[39m, name):\n\u001b[0;32m----> 7\u001b[0m     \u001b[38;5;28mprint\u001b[39m(\u001b[38;5;124m\"\u001b[39m\u001b[38;5;124mCar Name:\u001b[39m\u001b[38;5;124m\"\u001b[39m, \u001b[38;5;28;43mself\u001b[39;49m\u001b[38;5;241;43m.\u001b[39;49m\u001b[43mname\u001b[49m)\n",
      "\u001b[0;31mAttributeError\u001b[0m: 'Car' object has no attribute 'name'"
     ]
    }
   ],
   "source": [
    "s1.car_info(\"Toyota\")"
   ]
  },
  {
   "cell_type": "code",
   "execution_count": 82,
   "id": "eac0d0ac-4a07-486b-98b3-e6a656368509",
   "metadata": {},
   "outputs": [],
   "source": [
    "class Company:\n",
    "    def company_name(self):\n",
    "        return \"Ineuron\"\n",
    "    \n",
    "class Employee(Company):\n",
    "    def info (self):\n",
    "        company_name = super().company_name()\n",
    "        print(\"I work at \",company_name)"
   ]
  },
  {
   "cell_type": "code",
   "execution_count": 84,
   "id": "45c6a12c-a73e-4529-a6ae-1426ea6121fc",
   "metadata": {},
   "outputs": [
    {
     "data": {
      "text/plain": [
       "'Ineuron'"
      ]
     },
     "execution_count": 84,
     "metadata": {},
     "output_type": "execute_result"
    }
   ],
   "source": [
    "james = Employee()\n",
    "james.company_name()"
   ]
  },
  {
   "cell_type": "code",
   "execution_count": 85,
   "id": "7e6bc2c6-69af-4dc4-bbae-ba30d660f4aa",
   "metadata": {},
   "outputs": [
    {
     "name": "stdout",
     "output_type": "stream",
     "text": [
      "I work at  Ineuron\n"
     ]
    }
   ],
   "source": [
    "james.info()"
   ]
  },
  {
   "cell_type": "markdown",
   "id": "0939c4b8-8ef8-4145-9057-84a98fe3069d",
   "metadata": {},
   "source": [
    "# once you initialise a child class in python you can call super().__init__ method. This initialises the parent class object into child class. "
   ]
  },
  {
   "cell_type": "code",
   "execution_count": 87,
   "id": "36ea6ea3-d6ed-4c2c-ba74-9d8874fb2794",
   "metadata": {},
   "outputs": [],
   "source": [
    "class Parent:\n",
    "    def __init__(sefl, v1,v2):\n",
    "        self.v1 = v1\n",
    "        self.v2 = v2\n",
    "        \n",
    "class Child(Parent):\n",
    "    def __init__(self, v1,v2,v3):\n",
    "        self.v1=v1\n",
    "        self.v2=v2\n",
    "        self.v3=v3"
   ]
  },
  {
   "cell_type": "markdown",
   "id": "7c5eeb7f-9fe8-4953-9441-bf0b4a0a8327",
   "metadata": {
    "tags": []
   },
   "source": [
    "# Instead of the above code, we can code as below by using super method"
   ]
  },
  {
   "cell_type": "code",
   "execution_count": 91,
   "id": "2142e553-cfe1-4245-8493-e880eff4cce9",
   "metadata": {},
   "outputs": [],
   "source": [
    "class Parent:\n",
    "    def __init__(self, v1,v2):\n",
    "        self.v1 = v1\n",
    "        self.v2 = v2\n",
    "        \n",
    "class Child(Parent):\n",
    "    def __init__(self, v1, v2, v3):\n",
    "        super().__init__(v1,v2)\n",
    "        self.v3 = v3"
   ]
  },
  {
   "cell_type": "code",
   "execution_count": 94,
   "id": "00854e43-dc46-4abb-b6e7-1f7621f7a76f",
   "metadata": {},
   "outputs": [],
   "source": [
    "c1 = Child(1, 3, 5)"
   ]
  },
  {
   "cell_type": "code",
   "execution_count": 95,
   "id": "2a9b728b-bc7c-4f79-9c10-22e4abb7846f",
   "metadata": {},
   "outputs": [
    {
     "data": {
      "text/plain": [
       "1"
      ]
     },
     "execution_count": 95,
     "metadata": {},
     "output_type": "execute_result"
    }
   ],
   "source": [
    "c1.v1"
   ]
  },
  {
   "cell_type": "code",
   "execution_count": 96,
   "id": "1bb4733c-043b-42e6-aff3-df4084e7f20c",
   "metadata": {},
   "outputs": [
    {
     "data": {
      "text/plain": [
       "3"
      ]
     },
     "execution_count": 96,
     "metadata": {},
     "output_type": "execute_result"
    }
   ],
   "source": [
    "c1.v2"
   ]
  },
  {
   "cell_type": "code",
   "execution_count": 97,
   "id": "bec6add7-6a23-45eb-aa3b-1d89570c2ea7",
   "metadata": {},
   "outputs": [
    {
     "data": {
      "text/plain": [
       "5"
      ]
     },
     "execution_count": 97,
     "metadata": {},
     "output_type": "execute_result"
    }
   ],
   "source": [
    "c1.v3"
   ]
  },
  {
   "cell_type": "code",
   "execution_count": 139,
   "id": "cb1abb1a-7461-46e3-aa79-ca5857f176c6",
   "metadata": {},
   "outputs": [],
   "source": [
    "class Parent:\n",
    "    def __init__(self):\n",
    "        print(\"This is parent\")\n",
    "        \n",
    "class Parent1:\n",
    "    def __init__(self):\n",
    "        print(\"This is parent1\")\n",
    "        \n",
    "class Parent2:\n",
    "    def __init__(self):\n",
    "        print(\"This is parent2\")\n",
    "\n",
    "class Child(Parent2, Parent1, Parent):\n",
    "    def __init__(self):\n",
    "        super().__init__()\n",
    "        print(\"Hello, I am the child\")\n"
   ]
  },
  {
   "cell_type": "code",
   "execution_count": 140,
   "id": "301134a1-1c41-4223-9525-98f4a9254cda",
   "metadata": {},
   "outputs": [
    {
     "name": "stdout",
     "output_type": "stream",
     "text": [
      "This is parent2\n",
      "Hello, I am the child\n"
     ]
    }
   ],
   "source": [
    "k = Child()"
   ]
  },
  {
   "cell_type": "code",
   "execution_count": null,
   "id": "2bdc6c90-ba08-416b-9541-2251d92f0297",
   "metadata": {},
   "outputs": [],
   "source": []
  },
  {
   "cell_type": "code",
   "execution_count": null,
   "id": "4b09c197-fa2b-49dd-a8a8-d725aa3a71e0",
   "metadata": {},
   "outputs": [],
   "source": []
  },
  {
   "cell_type": "code",
   "execution_count": null,
   "id": "ff3e1ad5-1c59-47ca-ac44-0dc7b73c40a1",
   "metadata": {},
   "outputs": [],
   "source": []
  },
  {
   "cell_type": "code",
   "execution_count": null,
   "id": "3bfa3057-b5e8-469b-9143-b7f0ab021c87",
   "metadata": {},
   "outputs": [],
   "source": []
  },
  {
   "cell_type": "code",
   "execution_count": null,
   "id": "e3e72bfa-ef00-4937-bad1-6429bd82bbff",
   "metadata": {},
   "outputs": [],
   "source": []
  },
  {
   "cell_type": "code",
   "execution_count": null,
   "id": "6de04316-63ec-4289-bf1f-a58567e043e9",
   "metadata": {},
   "outputs": [],
   "source": []
  },
  {
   "cell_type": "code",
   "execution_count": null,
   "id": "9292e081-61ee-4c87-a2ef-556b93970372",
   "metadata": {},
   "outputs": [],
   "source": []
  }
 ],
 "metadata": {
  "kernelspec": {
   "display_name": "Python 3 (ipykernel)",
   "language": "python",
   "name": "python3"
  },
  "language_info": {
   "codemirror_mode": {
    "name": "ipython",
    "version": 3
   },
   "file_extension": ".py",
   "mimetype": "text/x-python",
   "name": "python",
   "nbconvert_exporter": "python",
   "pygments_lexer": "ipython3",
   "version": "3.10.6"
  }
 },
 "nbformat": 4,
 "nbformat_minor": 5
}
